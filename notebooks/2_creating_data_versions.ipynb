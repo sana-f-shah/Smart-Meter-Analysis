{
  "nbformat": 4,
  "nbformat_minor": 0,
  "metadata": {
    "colab": {
      "provenance": [],
      "authorship_tag": "ABX9TyPoUUawl5a9h2zdr4NpLqWu",
      "include_colab_link": true
    },
    "kernelspec": {
      "name": "python3",
      "display_name": "Python 3"
    },
    "language_info": {
      "name": "python"
    }
  },
  "cells": [
    {
      "cell_type": "markdown",
      "metadata": {
        "id": "view-in-github",
        "colab_type": "text"
      },
      "source": [
        "<a href=\"https://colab.research.google.com/github/sana-f-shah/Smart-Meter-Forecasting/blob/main/notebooks/2_creating_data_versions.ipynb\" target=\"_parent\"><img src=\"https://colab.research.google.com/assets/colab-badge.svg\" alt=\"Open In Colab\"/></a>"
      ]
    },
    {
      "cell_type": "code",
      "execution_count": null,
      "metadata": {
        "colab": {
          "base_uri": "https://localhost:8080/"
        },
        "id": "_DnmxkSoJmc4",
        "outputId": "cdf13282-5a3f-41ef-d059-7d200585ae58"
      },
      "outputs": [
        {
          "output_type": "stream",
          "name": "stdout",
          "text": [
            "Drive already mounted at /content/drive; to attempt to forcibly remount, call drive.mount(\"/content/drive\", force_remount=True).\n"
          ]
        }
      ],
      "source": [
        "from google.colab import drive\n",
        "drive.mount('/content/drive')"
      ]
    },
    {
      "cell_type": "code",
      "source": [
        "import pandas as pd\n",
        "import numpy as np"
      ],
      "metadata": {
        "id": "pYBLvVBaKsty"
      },
      "execution_count": null,
      "outputs": []
    },
    {
      "cell_type": "code",
      "source": [
        "original = '/content/drive/MyDrive/Portfolio/Smart Meter Forecasting/data_versions/regression/original.parquet'\n",
        "df = pd.read_parquet(original)"
      ],
      "metadata": {
        "id": "CSla4r9vbujw"
      },
      "execution_count": null,
      "outputs": []
    },
    {
      "cell_type": "code",
      "source": [
        "# Regression\n",
        "\"\"\"\n",
        "test_df = df.sample(n=100, random_state=42)\n",
        "train_df = df.drop(test_df.index)\n",
        "\n",
        "test_path = '/content/drive/MyDrive/Portfolio/Smart Meter Forecasting/data_versions/regression/test.parquet'\n",
        "test_df.to_parquet(test_path, index=False)\n",
        "\n",
        "train_path = '/content/drive/MyDrive/Portfolio/Smart Meter Forecasting/data_versions/regression/original.parquet'\n",
        "train_df.to_parquet(train_path, index=False)\n",
        "\n",
        "output_dir = '/content/drive/MyDrive/Portfolio/Smart Meter Forecasting/data_versions/regression/'\n",
        "numeric_cols = df.select_dtypes(include=[np.number]).columns\n",
        "\"\"\""
      ],
      "metadata": {
        "id": "R0AMxQTjKnLj",
        "colab": {
          "base_uri": "https://localhost:8080/",
          "height": 70
        },
        "outputId": "3b494a3d-3f3a-4754-9e19-5738420895fb"
      },
      "execution_count": null,
      "outputs": [
        {
          "output_type": "execute_result",
          "data": {
            "text/plain": [
              "\"\\ntest_df = df.sample(n=100, random_state=42)\\ntrain_df = df.drop(test_df.index)\\n\\ntest_path = '/content/drive/MyDrive/Portfolio/Smart Meter Consumption/data_versions/regression/test.parquet'\\ntest_df.to_parquet(test_path, index=False)\\n\\ntrain_path = '/content/drive/MyDrive/Portfolio/Smart Meter Consumption/data_versions/regression/original.parquet'\\ntrain_df.to_parquet(train_path, index=False)\\n\\noutput_dir = '/content/drive/MyDrive/Portfolio/Smart Meter Consumption/data_versions/regression/'\\nnumeric_cols = df.select_dtypes(include=[np.number]).columns\\n\""
            ],
            "application/vnd.google.colaboratory.intrinsic+json": {
              "type": "string"
            }
          },
          "metadata": {},
          "execution_count": 14
        }
      ]
    },
    {
      "cell_type": "code",
      "source": [
        "# Time Series\n",
        "\n",
        "df['data_collection_log_timestamp'] = pd.to_datetime(df['data_collection_log_timestamp'])\n",
        "df = df.sort_values('data_collection_log_timestamp')\n",
        "df.set_index('data_collection_log_timestamp', inplace=True)\n",
        "df['target'] = df['total_consumption_active_import']\n",
        "df['lag_1'] = df['target'].shift(1)\n",
        "df['lag_2'] = df['target'].shift(2)\n",
        "df['rolling_3h'] = df['target'].rolling(window=3).mean()\n",
        "df = df.dropna()\n",
        "\n",
        "test_df = df.sample(n=100, random_state=42)\n",
        "train_df = df.drop(test_df.index)\n",
        "\n",
        "test_path = '/content/drive/MyDrive/Portfolio/Smart Meter Forecasting/data_versions/time series/test.parquet'\n",
        "test_df.to_parquet(test_path, index=False)\n",
        "\n",
        "train_path = '/content/drive/MyDrive/Portfolio/Smart Meter Forecasting/data_versions/time series/original.parquet'\n",
        "train_df.to_parquet(train_path, index=False)\n",
        "\n",
        "output_dir = '/content/drive/MyDrive/Portfolio/Smart Meter Forecasting/data_versions/time series/'\n",
        "numeric_cols = df.select_dtypes(include=[np.number]).columns"
      ],
      "metadata": {
        "id": "LJgOGw4Ebsze"
      },
      "execution_count": null,
      "outputs": []
    },
    {
      "cell_type": "code",
      "source": [
        "df_outlier_removed = df.copy()\n",
        "for col in numeric_cols:\n",
        "    q1 = df_outlier_removed[col].quantile(0.25)\n",
        "    q3 = df_outlier_removed[col].quantile(0.75)\n",
        "    iqr = q3 - q1\n",
        "    lower = q1 - 1.5 * iqr\n",
        "    upper = q3 + 1.5 * iqr\n",
        "    df_outlier_removed = df_outlier_removed[(df_outlier_removed[col] >= lower) & (df_outlier_removed[col] <= upper)]\n",
        "df_outlier_removed.to_parquet(f'{output_dir}/no_outliers.parquet', index=False)"
      ],
      "metadata": {
        "id": "otPSvi28K36w"
      },
      "execution_count": null,
      "outputs": []
    },
    {
      "cell_type": "code",
      "source": [
        "from scipy.stats.mstats import winsorize\n",
        "\n",
        "df_winsorized = df.copy()\n",
        "for col in numeric_cols:\n",
        "    df_winsorized[col] = winsorize(df[col], limits=[0.01, 0.01])\n",
        "df_winsorized.to_parquet(f'{output_dir}/winsorized.parquet', index=False)"
      ],
      "metadata": {
        "id": "4ZWV1m9JLE0k"
      },
      "execution_count": null,
      "outputs": []
    },
    {
      "cell_type": "code",
      "source": [
        "\"\"\"\n",
        "df_outlier_flags = df.copy()\n",
        "for col in numeric_cols:\n",
        "    q1 = df[col].quantile(0.25)\n",
        "    q3 = df[col].quantile(0.75)\n",
        "    iqr = q3 - q1\n",
        "    lower = q1 - 1.5 * iqr\n",
        "    upper = q3 + 1.5 * iqr\n",
        "    df_outlier_flags[f'is_outlier_{col}'] = ((df[col] < lower) | (df[col] > upper)).astype(int)\n",
        "df_outlier_flags.to_parquet(f'{output_dir}/with_outlier_flags.parquet', index=False)\n",
        "\"\"\""
      ],
      "metadata": {
        "id": "am38yZr-LJqq"
      },
      "execution_count": null,
      "outputs": []
    },
    {
      "cell_type": "code",
      "source": [
        "from sklearn.impute import SimpleImputer\n",
        "\n",
        "df_imputed = df.copy()\n",
        "imputer = SimpleImputer(strategy='median')\n",
        "df_imputed[numeric_cols] = imputer.fit_transform(df[numeric_cols])\n",
        "df_imputed.to_parquet(f'{output_dir}/imputed.parquet', index=False)"
      ],
      "metadata": {
        "id": "l3J9AKt8LK5p"
      },
      "execution_count": null,
      "outputs": []
    }
  ]
}