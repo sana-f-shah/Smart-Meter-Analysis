{
  "nbformat": 4,
  "nbformat_minor": 0,
  "metadata": {
    "colab": {
      "provenance": [],
      "authorship_tag": "ABX9TyPjAZ82JusVBNdZl5XAtYje",
      "include_colab_link": true
    },
    "kernelspec": {
      "name": "python3",
      "display_name": "Python 3"
    },
    "language_info": {
      "name": "python"
    }
  },
  "cells": [
    {
      "cell_type": "markdown",
      "metadata": {
        "id": "view-in-github",
        "colab_type": "text"
      },
      "source": [
        "<a href=\"https://colab.research.google.com/github/sana-f-shah/Smart-Meter-Analysis/blob/main/notebooks/time_series_xgb_regression.ipynb\" target=\"_parent\"><img src=\"https://colab.research.google.com/assets/colab-badge.svg\" alt=\"Open In Colab\"/></a>"
      ]
    },
    {
      "cell_type": "code",
      "execution_count": null,
      "metadata": {
        "colab": {
          "base_uri": "https://localhost:8080/"
        },
        "id": "6NLlcyPuNd1A",
        "outputId": "fdc7cdd3-795f-4c03-f1f3-cb9cb52f96d8"
      },
      "outputs": [
        {
          "output_type": "stream",
          "name": "stdout",
          "text": [
            "Mounted at /content/drive/\n"
          ]
        }
      ],
      "source": [
        "from google.colab import drive\n",
        "drive.mount('/content/drive/')"
      ]
    },
    {
      "cell_type": "code",
      "source": [
        "import os\n",
        "import pandas as pd\n",
        "import numpy as np\n",
        "from xgboost import XGBRegressor\n",
        "from sklearn.metrics import mean_squared_error, mean_absolute_error, r2_score, median_absolute_error\n",
        "\n",
        "data_dir = '/content/drive/MyDrive/Portfolio/Smart Meter Consumption/data_versions/time series'\n",
        "model_dir = '/content/drive/MyDrive/Portfolio/Smart Meter Consumption/models/time series'\n",
        "\n",
        "dataset_files = {\n",
        "    'original': f'{data_dir}/original.parquet',\n",
        "    'no_outliers': f'{data_dir}/no_outliers.parquet',\n",
        "    'winsorized': f'{data_dir}/winsorized.parquet',\n",
        "    'imputed': f'{data_dir}/imputed.parquet'\n",
        "}\n",
        "\n",
        "features = ['lag_1', 'lag_2', 'rolling_3h', 'hour', 'dayofweek', 'month', 'is_weekend']\n",
        "target = 'target'\n",
        "\n",
        "results = {\n",
        "    'dataset': [],\n",
        "    'rmse': [],\n",
        "    'mae': [],\n",
        "    'mape (%)': [],\n",
        "    'median_ae': [],\n",
        "    'r2': [],\n",
        "    'mbe (bias)': []\n",
        "}\n",
        "\n",
        "for name, path in dataset_files.items():\n",
        "    print(f'Processing dataset: {name}')\n",
        "    df = pd.read_parquet(path)\n",
        "\n",
        "    df = df.dropna(subset=features + [target])\n",
        "\n",
        "    split_idx = int(len(df) * 0.8)\n",
        "    train = df.iloc[:split_idx]\n",
        "    test = df.iloc[split_idx:]\n",
        "\n",
        "    model = XGBRegressor(\n",
        "        objective='reg:squarederror',\n",
        "        tree_method='hist',\n",
        "        device='cuda',\n",
        "        predictor='gpu_predictor',\n",
        "        n_estimators=100,\n",
        "        verbosity=0,\n",
        "        random_state=42\n",
        "    )\n",
        "    model.fit(train[features], train[target])\n",
        "\n",
        "    model.save_model(os.path.join(model_dir, f'{name}_ts_model.json'))\n",
        "\n",
        "    preds = model.predict(test[features])\n",
        "\n",
        "    mse = mean_squared_error(test[target], preds)\n",
        "    rmse = np.sqrt(mse)\n",
        "    mae = mean_absolute_error(test[target], preds)\n",
        "    medae = median_absolute_error(test[target], preds)\n",
        "    r2 = r2_score(test[target], preds)\n",
        "    mbe = np.mean(preds - test[target])\n",
        "\n",
        "    non_zero_mask = test[target] != 0\n",
        "    if non_zero_mask.any():\n",
        "        mape = np.mean(np.abs((test[target][non_zero_mask] - preds[non_zero_mask]) / test[target][non_zero_mask])) * 100\n",
        "    else:\n",
        "        mape = np.nan\n",
        "\n",
        "    results['dataset'].append(name)\n",
        "    results['rmse'].append(rmse)\n",
        "    results['mae'].append(mae)\n",
        "    results['mape (%)'].append(mape)\n",
        "    results['median_ae'].append(medae)\n",
        "    results['r2'].append(r2)\n",
        "    results['mbe (bias)'].append(mbe)\n",
        "\n",
        "val_results_df = pd.DataFrame(results)\n",
        "print('\\nTime Series Model Performance Summary:')\n",
        "print(val_results_df)"
      ],
      "metadata": {
        "colab": {
          "base_uri": "https://localhost:8080/"
        },
        "id": "AKGOVAYYVbxY",
        "outputId": "342f23b6-1176-4617-c809-1441841be32e"
      },
      "execution_count": null,
      "outputs": [
        {
          "output_type": "stream",
          "name": "stdout",
          "text": [
            "Processing dataset: original\n",
            "Processing dataset: no_outliers\n",
            "Processing dataset: winsorized\n",
            "Processing dataset: imputed\n",
            "\n",
            "Time Series Model Performance Summary:\n",
            "       dataset         rmse         mae   mape (%)   median_ae        r2  \\\n",
            "0     original   765.826104  445.863390   9.869562  309.312500  0.990863   \n",
            "1  no_outliers   407.715835  311.293510   8.514958  244.443359  0.993147   \n",
            "2   winsorized  1114.524191  508.569788  10.419950  311.439941  0.979326   \n",
            "3      imputed   777.075882  451.546982  10.114254  314.677002  0.990655   \n",
            "\n",
            "   mbe (bias)  \n",
            "0   -4.152445  \n",
            "1   -0.114327  \n",
            "2    3.088484  \n",
            "3   -2.307804  \n"
          ]
        }
      ]
    },
    {
      "cell_type": "code",
      "source": [
        "from xgboost import XGBRegressor\n",
        "from sklearn.metrics import mean_squared_error, mean_absolute_error, r2_score, median_absolute_error\n",
        "import pandas as pd\n",
        "import numpy as np\n",
        "import os\n",
        "\n",
        "test_path = '/content/drive/MyDrive/Portfolio/Smart Meter Consumption/data_versions/time series/test.parquet'\n",
        "model_dir = '/content/drive/MyDrive/Portfolio/Smart Meter Consumption/models/time series/'\n",
        "\n",
        "dataset_names = ['original', 'no_outliers', 'winsorized', 'imputed']\n",
        "\n",
        "features = ['lag_1', 'lag_2', 'rolling_3h', 'hour', 'dayofweek', 'month', 'is_weekend']\n",
        "target = 'target'\n",
        "\n",
        "test_df = pd.read_parquet(test_path)\n",
        "test_df = test_df.dropna(subset=features + [target])\n",
        "X_test = test_df[features]\n",
        "y_test = test_df[target]\n",
        "\n",
        "test_results = {\n",
        "    'dataset': [],\n",
        "    'rmse': [],\n",
        "    'mae': [],\n",
        "    'mape (%)': [],\n",
        "    'median_ae': [],\n",
        "    'r2': [],\n",
        "    'mbe (bias)': []\n",
        "}\n",
        "\n",
        "for name in dataset_names:\n",
        "    print(f'Evaluating model: {name}')\n",
        "\n",
        "    model_path = os.path.join(model_dir, f'{name}_ts_model.json')\n",
        "    model = XGBRegressor()\n",
        "    model.load_model(model_path)\n",
        "\n",
        "    y_pred = model.predict(X_test)\n",
        "\n",
        "    rmse = np.sqrt(mean_squared_error(y_test, y_pred))\n",
        "    mae = mean_absolute_error(y_test, y_pred)\n",
        "    medae = median_absolute_error(y_test, y_pred)\n",
        "    r2 = r2_score(y_test, y_pred)\n",
        "    mbe = np.mean(y_pred - y_test)\n",
        "\n",
        "    non_zero_mask = y_test != 0\n",
        "    if non_zero_mask.any():\n",
        "        mape = np.mean(np.abs((y_test[non_zero_mask] - y_pred[non_zero_mask]) / y_test[non_zero_mask])) * 100\n",
        "    else:\n",
        "        mape = np.nan\n",
        "\n",
        "    test_results['dataset'].append(name)\n",
        "    test_results['rmse'].append(rmse)\n",
        "    test_results['mae'].append(mae)\n",
        "    test_results['mape (%)'].append(mape)\n",
        "    test_results['median_ae'].append(medae)\n",
        "    test_results['r2'].append(r2)\n",
        "    test_results['mbe (bias)'].append(mbe)\n",
        "\n",
        "test_results_df = pd.DataFrame(test_results)\n",
        "print('\\nTime Series Test Set Performance Summary:')\n",
        "print(test_results_df)"
      ],
      "metadata": {
        "colab": {
          "base_uri": "https://localhost:8080/"
        },
        "id": "j5lF-H23Ya2I",
        "outputId": "5e00f4f9-2467-42d5-939e-da2bfc98e82b"
      },
      "execution_count": null,
      "outputs": [
        {
          "output_type": "stream",
          "name": "stdout",
          "text": [
            "Evaluating model: original\n",
            "Evaluating model: no_outliers\n",
            "Evaluating model: winsorized\n",
            "Evaluating model: imputed\n",
            "\n",
            "Time Series Test Set Performance Summary:\n",
            "       dataset         rmse          mae   mape (%)   median_ae        r2  \\\n",
            "0     original  1077.127488   588.804007   9.904761  311.351013  0.974340   \n",
            "1  no_outliers  3927.021922  1242.285720  12.473152  320.259521  0.658930   \n",
            "2   winsorized   868.674294   515.391521  10.240935  327.290527  0.983311   \n",
            "3      imputed  1184.931151   593.049651  11.862866  380.849915  0.968947   \n",
            "\n",
            "   mbe (bias)  \n",
            "0  -65.972841  \n",
            "1 -257.955448  \n",
            "2   20.215134  \n",
            "3   11.461013  \n"
          ]
        }
      ]
    },
    {
      "cell_type": "code",
      "source": [
        "!pip install --quiet gspread gspread_dataframe\n",
        "\n",
        "from google.colab import auth\n",
        "from google.colab import drive\n",
        "from gspread_dataframe import set_with_dataframe\n",
        "import gspread\n",
        "from google.auth import default\n",
        "import pandas as pd\n",
        "\n",
        "auth.authenticate_user()\n",
        "drive.mount('/content/drive')\n",
        "creds, _ = default()\n",
        "gc = gspread.authorize(creds)\n",
        "\n",
        "spreadsheet = gc.open(\"smart_meter_consumption_results\")\n",
        "worksheet = spreadsheet.sheet1\n",
        "\n",
        "def insert_into_sheet(df, model_type_prefix, data_split):\n",
        "    df['model_type'] = model_type_prefix\n",
        "    df['data_split'] = data_split\n",
        "    df['preprocessing'] = df['dataset'].astype(str)\n",
        "\n",
        "    df = df.drop(columns=['dataset'], errors='ignore')\n",
        "    if 'model' in df.columns:\n",
        "        df = df.drop(columns=['model'])\n",
        "\n",
        "    front_cols = ['model_type', 'data_split', 'preprocessing', 'r2']\n",
        "    remaining_cols = [col for col in df.columns if col not in front_cols]\n",
        "    df = df[front_cols + remaining_cols]\n",
        "    #df = df.drop(columns=['task_type'])\n",
        "\n",
        "    blank_row = pd.DataFrame([[''] * len(df.columns)], columns=df.columns)\n",
        "    header_row = pd.DataFrame([df.columns.tolist()], columns=df.columns)\n",
        "    block = pd.concat([blank_row, header_row, df], ignore_index=True)\n",
        "\n",
        "    next_row = len(worksheet.get_all_values()) + 1\n",
        "    set_with_dataframe(worksheet, block, row=next_row, col=1, include_column_header=False)\n",
        "\n",
        "insert_into_sheet(val_results_df, model_type_prefix='time_series', data_split='val')\n",
        "insert_into_sheet(test_results_df, model_type_prefix='time_series', data_split='test')"
      ],
      "metadata": {
        "colab": {
          "base_uri": "https://localhost:8080/"
        },
        "id": "y5n_wVhqP-Pc",
        "outputId": "6ccde708-6c5d-4701-fdfd-a35667001ed1"
      },
      "execution_count": null,
      "outputs": [
        {
          "output_type": "stream",
          "name": "stdout",
          "text": [
            "Drive already mounted at /content/drive; to attempt to forcibly remount, call drive.mount(\"/content/drive\", force_remount=True).\n"
          ]
        }
      ]
    }
  ]
}