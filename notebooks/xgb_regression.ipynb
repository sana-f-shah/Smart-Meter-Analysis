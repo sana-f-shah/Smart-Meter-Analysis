{
  "nbformat": 4,
  "nbformat_minor": 0,
  "metadata": {
    "colab": {
      "provenance": [],
      "machine_shape": "hm",
      "gpuType": "L4",
      "authorship_tag": "ABX9TyPmzxOnodKThiGmeaO8YgC4",
      "include_colab_link": true
    },
    "kernelspec": {
      "name": "python3",
      "display_name": "Python 3"
    },
    "language_info": {
      "name": "python"
    },
    "accelerator": "GPU"
  },
  "cells": [
    {
      "cell_type": "markdown",
      "metadata": {
        "id": "view-in-github",
        "colab_type": "text"
      },
      "source": [
        "<a href=\"https://colab.research.google.com/github/sana-f-shah/Smart-Meter-Analysis/blob/main/notebooks/xgb_regression.ipynb\" target=\"_parent\"><img src=\"https://colab.research.google.com/assets/colab-badge.svg\" alt=\"Open In Colab\"/></a>"
      ]
    },
    {
      "cell_type": "code",
      "execution_count": null,
      "metadata": {
        "colab": {
          "base_uri": "https://localhost:8080/"
        },
        "id": "0cy7Id8sLjYf",
        "outputId": "6715179a-7074-4332-d61e-ef32e9fd1bf2"
      },
      "outputs": [
        {
          "output_type": "stream",
          "name": "stdout",
          "text": [
            "Mounted at /content/drive\n"
          ]
        }
      ],
      "source": [
        "from google.colab import drive\n",
        "drive.mount('/content/drive')"
      ]
    },
    {
      "cell_type": "code",
      "source": [
        "import pandas as pd\n",
        "import numpy as np\n",
        "from sklearn.model_selection import train_test_split\n",
        "from sklearn.metrics import mean_squared_error, mean_absolute_error, r2_score\n",
        "from xgboost import XGBRegressor\n",
        "import os"
      ],
      "metadata": {
        "id": "VM-ORVIlMAKy"
      },
      "execution_count": null,
      "outputs": []
    },
    {
      "cell_type": "code",
      "source": [
        "import os\n",
        "import pandas as pd\n",
        "import numpy as np\n",
        "from sklearn.model_selection import train_test_split\n",
        "from sklearn.metrics import mean_squared_error, mean_absolute_error, r2_score, median_absolute_error\n",
        "from xgboost import XGBRegressor\n",
        "\n",
        "data_dir = '/content/drive/MyDrive/Portfolio/Smart Meter Consumption/data_versions/regression'\n",
        "model_dir = '/content/drive/MyDrive/Portfolio/Smart Meter Consumption/models/regression'\n",
        "\n",
        "dataset_files = {\n",
        "    'original': f'{data_dir}/original.parquet',\n",
        "    'no_outliers': f'{data_dir}/no_outliers.parquet',\n",
        "    'winsorized': f'{data_dir}/winsorized.parquet',\n",
        "    'imputed': f'{data_dir}/imputed.parquet'\n",
        "}\n",
        "\n",
        "target = 'total_consumption_active_import'\n",
        "\n",
        "results = {\n",
        "    'dataset': [],\n",
        "    'rmse': [],\n",
        "    'mae': [],\n",
        "    'mape (%)': [],\n",
        "    'median_ae': [],\n",
        "    'r2': [],\n",
        "    'mbe (bias)': []\n",
        "}\n",
        "\n",
        "for name, path in dataset_files.items():\n",
        "    print(f'Processing dataset: {name}')\n",
        "    df = pd.read_parquet(path)\n",
        "    df = df.drop(columns='data_collection_log_timestamp')\n",
        "\n",
        "    y = df[target]\n",
        "    X = df.drop(columns=[target])\n",
        "\n",
        "    df_model = pd.concat([X, y], axis=1).dropna()\n",
        "    X = df_model.drop(columns=target)\n",
        "    y = df_model[target]\n",
        "\n",
        "    X_train, X_test, y_train, y_test = train_test_split(\n",
        "        X, y, test_size=0.2, random_state=42\n",
        "    )\n",
        "\n",
        "    model = XGBRegressor(\n",
        "        objective='reg:squarederror',\n",
        "        tree_method='hist',\n",
        "        device='cuda',\n",
        "        predictor='gpu_predictor',\n",
        "        n_estimators=100,\n",
        "        verbosity=0,\n",
        "        random_state=42\n",
        "    )\n",
        "    model.fit(X_train, y_train)\n",
        "\n",
        "    model_path = os.path.join(model_dir, f'{name}_model.json')\n",
        "    model.save_model(model_path)\n",
        "\n",
        "    y_pred = model.predict(X_test)\n",
        "\n",
        "    rmse = np.sqrt(mean_squared_error(y_test, y_pred))\n",
        "    mae = mean_absolute_error(y_test, y_pred)\n",
        "    medae = median_absolute_error(y_test, y_pred)\n",
        "    r2 = r2_score(y_test, y_pred)\n",
        "    mbe = np.mean(y_pred - y_test)\n",
        "\n",
        "    non_zero_mask = y_test != 0\n",
        "    if non_zero_mask.any():\n",
        "        mape = np.mean(np.abs((y_test[non_zero_mask] - y_pred[non_zero_mask]) / y_test[non_zero_mask])) * 100\n",
        "    else:\n",
        "        mape = np.nan\n",
        "\n",
        "    results['dataset'].append(name)\n",
        "    results['rmse'].append(rmse)\n",
        "    results['mae'].append(mae)\n",
        "    results['mape (%)'].append(mape)\n",
        "    results['median_ae'].append(medae)\n",
        "    results['r2'].append(r2)\n",
        "    results['mbe (bias)'].append(mbe)\n",
        "\n",
        "val_results_df = pd.DataFrame(results)\n",
        "print('\\nModel Performance Summary:')\n",
        "print(val_results_df)"
      ],
      "metadata": {
        "colab": {
          "base_uri": "https://localhost:8080/"
        },
        "id": "-NNN5NaqMR6-",
        "outputId": "27a222b3-5962-4dcf-c001-e023f4c7368e"
      },
      "execution_count": null,
      "outputs": [
        {
          "output_type": "stream",
          "name": "stdout",
          "text": [
            "Processing dataset: original\n",
            "Processing dataset: no_outliers\n",
            "Processing dataset: winsorized\n",
            "Processing dataset: imputed\n",
            "\n",
            "Model Performance Summary:\n",
            "       dataset        rmse        mae  mape (%)  median_ae        r2  \\\n",
            "0     original  298.042478  58.606051  0.713277  20.001953  0.998690   \n",
            "1  no_outliers   38.504950  23.120098  0.554356  15.162598  0.999947   \n",
            "2   winsorized  115.548883  41.638365  0.452491  17.974121  0.999785   \n",
            "3      imputed  297.201585  58.063679  0.713711  19.864258  0.998691   \n",
            "\n",
            "   mbe (bias)  \n",
            "0   -1.079455  \n",
            "1   -0.092783  \n",
            "2   -0.038470  \n",
            "3   -0.023408  \n"
          ]
        }
      ]
    },
    {
      "cell_type": "code",
      "source": [
        "from xgboost import XGBRegressor\n",
        "from sklearn.metrics import mean_squared_error, mean_absolute_error, r2_score, median_absolute_error\n",
        "import pandas as pd\n",
        "import numpy as np\n",
        "import os\n",
        "\n",
        "test_path = '/content/drive/MyDrive/Portfolio/Smart Meter Consumption/data_versions/regression/test.parquet'\n",
        "model_dir = '/content/drive/MyDrive/Portfolio/Smart Meter Consumption/models/regression'\n",
        "\n",
        "dataset_names = ['original', 'no_outliers', 'winsorized', 'imputed']\n",
        "target = 'total_consumption_active_import'\n",
        "\n",
        "test_df = pd.read_parquet(test_path)\n",
        "test_df = test_df.drop(columns='data_collection_log_timestamp')\n",
        "y_test = test_df[target]\n",
        "X_test = test_df.drop(columns=[target])\n",
        "\n",
        "test_results = {\n",
        "    'dataset': [],\n",
        "    'rmse': [],\n",
        "    'mae': [],\n",
        "    'mape (%)': [],\n",
        "    'median_ae': [],\n",
        "    'r2': [],\n",
        "    'mbe (bias)': []\n",
        "}\n",
        "\n",
        "for name in dataset_names:\n",
        "    print(f'Evaluating model: {name}')\n",
        "\n",
        "    model_path = os.path.join(model_dir, f'{name}_model.json')\n",
        "    model = XGBRegressor()\n",
        "    model.load_model(model_path)\n",
        "\n",
        "    y_pred = model.predict(X_test)\n",
        "\n",
        "    rmse = np.sqrt(mean_squared_error(y_test, y_pred))\n",
        "    mae = mean_absolute_error(y_test, y_pred)\n",
        "    medae = median_absolute_error(y_test, y_pred)\n",
        "    r2 = r2_score(y_test, y_pred)\n",
        "    mbe = np.mean(y_pred - y_test)\n",
        "\n",
        "    non_zero_mask = y_test != 0\n",
        "    if non_zero_mask.any():\n",
        "        mape = np.mean(np.abs((y_test[non_zero_mask] - y_pred[non_zero_mask]) / y_test[non_zero_mask])) * 100\n",
        "    else:\n",
        "        mape = np.nan\n",
        "\n",
        "    test_results['dataset'].append(name)\n",
        "    test_results['rmse'].append(rmse)\n",
        "    test_results['mae'].append(mae)\n",
        "    test_results['mape (%)'].append(mape)\n",
        "    test_results['median_ae'].append(medae)\n",
        "    test_results['r2'].append(r2)\n",
        "    test_results['mbe (bias)'].append(mbe)\n",
        "\n",
        "test_results_df = pd.DataFrame(test_results)\n",
        "print('\\nTest Set Performance Summary (100 samples):')\n",
        "print(test_results_df)"
      ],
      "metadata": {
        "colab": {
          "base_uri": "https://localhost:8080/"
        },
        "id": "4RiU0eJGML9Y",
        "outputId": "0c9fdeaf-3ae6-405a-b3ea-edc05453c87e"
      },
      "execution_count": null,
      "outputs": [
        {
          "output_type": "stream",
          "name": "stdout",
          "text": [
            "Evaluating model: original\n",
            "Evaluating model: no_outliers\n",
            "Evaluating model: winsorized\n",
            "Evaluating model: imputed\n",
            "\n",
            "Test Set Performance Summary (100 samples):\n",
            "       dataset         rmse         mae  mape (%)  median_ae        r2  \\\n",
            "0     original   417.448189   94.631124  0.585189  17.533447  0.998030   \n",
            "1  no_outliers  4029.041595  858.110376  2.520301  18.720459  0.816454   \n",
            "2   winsorized  1227.738046  240.899107  2.938440  13.889954  0.982957   \n",
            "3      imputed   296.656955   77.833903  0.539001  19.978027  0.999005   \n",
            "\n",
            "   mbe (bias)  \n",
            "0   10.674607  \n",
            "1 -824.127695  \n",
            "2 -203.375046  \n",
            "3   -9.531300  \n"
          ]
        }
      ]
    },
    {
      "cell_type": "code",
      "source": [
        "print(val_results_df.columns)"
      ],
      "metadata": {
        "colab": {
          "base_uri": "https://localhost:8080/"
        },
        "id": "qpXlInYhEmnW",
        "outputId": "25e7f890-3dbb-46ff-b9c6-1fe9079da719"
      },
      "execution_count": null,
      "outputs": [
        {
          "output_type": "stream",
          "name": "stdout",
          "text": [
            "Index(['model_type', 'dataset', 'rmse', 'mae', 'mape (%)', 'median_ae', 'r2',\n",
            "       'mbe (bias)'],\n",
            "      dtype='object')\n"
          ]
        }
      ]
    },
    {
      "cell_type": "code",
      "source": [
        "!pip install --quiet gspread gspread_dataframe\n",
        "\n",
        "from google.colab import auth\n",
        "from google.colab import drive\n",
        "from gspread_dataframe import set_with_dataframe\n",
        "import gspread\n",
        "from google.auth import default\n",
        "import pandas as pd\n",
        "\n",
        "auth.authenticate_user()\n",
        "drive.mount('/content/drive')\n",
        "creds, _ = default()\n",
        "gc = gspread.authorize(creds)\n",
        "\n",
        "spreadsheet = gc.open(\"smart_meter_consumption_results\")\n",
        "worksheet = spreadsheet.sheet1\n",
        "\n",
        "def insert_into_sheet(df, model_type_prefix, data_split):\n",
        "    df['model_type'] = model_type_prefix\n",
        "    df['data_split'] = data_split\n",
        "    df['preprocessing'] = df['dataset'].astype(str)\n",
        "\n",
        "    df = df.drop(columns=['dataset'], errors='ignore')\n",
        "    if 'model' in df.columns:\n",
        "        df = df.drop(columns=['model'])\n",
        "\n",
        "    front_cols = ['model_type', 'data_split', 'preprocessing', 'r2']\n",
        "    remaining_cols = [col for col in df.columns if col not in front_cols]\n",
        "    df = df[front_cols + remaining_cols]\n",
        "    df = df.drop(columns=['task_type'])\n",
        "\n",
        "    blank_row = pd.DataFrame([[''] * len(df.columns)], columns=df.columns)\n",
        "    header_row = pd.DataFrame([df.columns.tolist()], columns=df.columns)\n",
        "    block = pd.concat([blank_row, header_row, df], ignore_index=True)\n",
        "\n",
        "    next_row = len(worksheet.get_all_values()) + 1\n",
        "    set_with_dataframe(worksheet, block, row=next_row, col=1, include_column_header=False)\n",
        "\n",
        "insert_into_sheet(val_results_df, model_type_prefix='regression', data_split='val')\n",
        "insert_into_sheet(test_results_df, model_type_prefix='regression', data_split='test')"
      ],
      "metadata": {
        "colab": {
          "base_uri": "https://localhost:8080/"
        },
        "id": "Cq1k6tZfBylh",
        "outputId": "2a79e9d5-1d2a-422f-fae9-31e47ca1fe31"
      },
      "execution_count": null,
      "outputs": [
        {
          "output_type": "stream",
          "name": "stdout",
          "text": [
            "Drive already mounted at /content/drive; to attempt to forcibly remount, call drive.mount(\"/content/drive\", force_remount=True).\n"
          ]
        }
      ]
    }
  ]
}